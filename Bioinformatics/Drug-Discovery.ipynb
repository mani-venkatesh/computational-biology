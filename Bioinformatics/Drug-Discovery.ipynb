{
 "cells": [
  {
   "cell_type": "markdown",
   "metadata": {},
   "source": [
    "### **Sickle Cell Anemia Drug Discovery Project using ChEMBL Databse**\n",
    "Sickle Cell Anemia is a genetic blood disordery. Individuals with sickle cell anemia have a mutation in the hemoglobin gene, causing their red blood cells to take on a rigid, sickle-like shape instead of the normal flexible, round shape ([\"Sickle Cell Anemia\", G. Lonergan. 2001](https://pubs.rsna.org/doi/abs/10.1148/radiographics.21.4.g01jl23971)). Such complications can lead to reduced oxygen delivery and stroke.\n",
    "\n",
    "[ChEMBL Database](https://www.ebi.ac.uk/chembl/g/) is a large set of bioactivity data, compiled from scientific papers and assays covering thousands of pathophysiological targets. \n",
    "\n",
    "**Install ChEMBL webresource client library: $ pip install chembl_webresource_client [Github](https://github.com/chembl/chembl_webresource_client) [NIH](https://www.ncbi.nlm.nih.gov/pmc/articles/PMC4489243/)** \n",
    "\n",
    "This library enables users with HTTPS protocol and caches results in local file systems for fast retrieval - based on Django QuerySet."
   ]
  },
  {
   "cell_type": "markdown",
   "metadata": {},
   "source": [
    "#### **Importing Libraries**"
   ]
  },
  {
   "cell_type": "code",
   "execution_count": 2,
   "metadata": {},
   "outputs": [],
   "source": [
    "import pandas as pd\n",
    "from chembl_webresource_client.new_client import new_client "
   ]
  },
  {
   "cell_type": "markdown",
   "metadata": {},
   "source": [
    "#### **Query Targets of Sickle Cell Pathophysiology**\n",
    "\n",
    "The target chosen is [Hemoglobin beta chain](https://www.ebi.ac.uk/chembl/target_report_card/CHEMBL4331/) or \"Beta-globin\". A mutation changes the amino acid from glutamic acid (E) to Valine (V) and the formation of sickle β-chains (HbS)."
   ]
  },
  {
   "cell_type": "code",
   "execution_count": 14,
   "metadata": {},
   "outputs": [
    {
     "data": {
      "text/html": [
       "<div>\n",
       "<style scoped>\n",
       "    .dataframe tbody tr th:only-of-type {\n",
       "        vertical-align: middle;\n",
       "    }\n",
       "\n",
       "    .dataframe tbody tr th {\n",
       "        vertical-align: top;\n",
       "    }\n",
       "\n",
       "    .dataframe thead th {\n",
       "        text-align: right;\n",
       "    }\n",
       "</style>\n",
       "<table border=\"1\" class=\"dataframe\">\n",
       "  <thead>\n",
       "    <tr style=\"text-align: right;\">\n",
       "      <th></th>\n",
       "      <th>cross_references</th>\n",
       "      <th>organism</th>\n",
       "      <th>pref_name</th>\n",
       "      <th>score</th>\n",
       "      <th>species_group_flag</th>\n",
       "      <th>target_chembl_id</th>\n",
       "      <th>target_components</th>\n",
       "      <th>target_type</th>\n",
       "      <th>tax_id</th>\n",
       "    </tr>\n",
       "  </thead>\n",
       "  <tbody>\n",
       "    <tr>\n",
       "      <th>0</th>\n",
       "      <td>[{'xref_id': 'P68871', 'xref_name': None, 'xre...</td>\n",
       "      <td>Homo sapiens</td>\n",
       "      <td>Hemoglobin beta chain</td>\n",
       "      <td>14.0</td>\n",
       "      <td>False</td>\n",
       "      <td>CHEMBL4331</td>\n",
       "      <td>[{'accession': 'P68871', 'component_descriptio...</td>\n",
       "      <td>SINGLE PROTEIN</td>\n",
       "      <td>9606</td>\n",
       "    </tr>\n",
       "    <tr>\n",
       "      <th>1</th>\n",
       "      <td>[{'xref_id': 'EBI-9008420', 'xref_name': None,...</td>\n",
       "      <td>Homo sapiens</td>\n",
       "      <td>Hemoglobin HbA</td>\n",
       "      <td>12.0</td>\n",
       "      <td>False</td>\n",
       "      <td>CHEMBL2095168</td>\n",
       "      <td>[{'accession': 'P69905', 'component_descriptio...</td>\n",
       "      <td>PROTEIN COMPLEX</td>\n",
       "      <td>9606</td>\n",
       "    </tr>\n",
       "  </tbody>\n",
       "</table>\n",
       "</div>"
      ],
      "text/plain": [
       "                                    cross_references      organism  \\\n",
       "0  [{'xref_id': 'P68871', 'xref_name': None, 'xre...  Homo sapiens   \n",
       "1  [{'xref_id': 'EBI-9008420', 'xref_name': None,...  Homo sapiens   \n",
       "\n",
       "               pref_name  score  species_group_flag target_chembl_id  \\\n",
       "0  Hemoglobin beta chain   14.0               False       CHEMBL4331   \n",
       "1         Hemoglobin HbA   12.0               False    CHEMBL2095168   \n",
       "\n",
       "                                   target_components      target_type  tax_id  \n",
       "0  [{'accession': 'P68871', 'component_descriptio...   SINGLE PROTEIN    9606  \n",
       "1  [{'accession': 'P69905', 'component_descriptio...  PROTEIN COMPLEX    9606  "
      ]
     },
     "execution_count": 14,
     "metadata": {},
     "output_type": "execute_result"
    }
   ],
   "source": [
    "target = new_client.target\n",
    "target_query = target.search('CHEMBL4331')\n",
    "targets = pd.DataFrame.from_dict(target_query)\n",
    "targets"
   ]
  },
  {
   "cell_type": "code",
   "execution_count": 15,
   "metadata": {},
   "outputs": [
    {
     "data": {
      "text/plain": [
       "'CHEMBL4331'"
      ]
     },
     "execution_count": 15,
     "metadata": {},
     "output_type": "execute_result"
    }
   ],
   "source": [
    "selected_target = targets.target_chembl_id[0] # Single Protein \n",
    "selected_target"
   ]
  },
  {
   "cell_type": "markdown",
   "metadata": {},
   "source": [
    "#### *Retrieve bioactivity data for *Hemoglobin beta chain* (CHEMBL4331) that are reported as IC50 values in micromolars (uM)*"
   ]
  },
  {
   "cell_type": "code",
   "execution_count": 24,
   "metadata": {},
   "outputs": [
    {
     "data": {
      "text/html": [
       "<div>\n",
       "<style scoped>\n",
       "    .dataframe tbody tr th:only-of-type {\n",
       "        vertical-align: middle;\n",
       "    }\n",
       "\n",
       "    .dataframe tbody tr th {\n",
       "        vertical-align: top;\n",
       "    }\n",
       "\n",
       "    .dataframe thead th {\n",
       "        text-align: right;\n",
       "    }\n",
       "</style>\n",
       "<table border=\"1\" class=\"dataframe\">\n",
       "  <thead>\n",
       "    <tr style=\"text-align: right;\">\n",
       "      <th></th>\n",
       "    </tr>\n",
       "  </thead>\n",
       "  <tbody>\n",
       "  </tbody>\n",
       "</table>\n",
       "</div>"
      ],
      "text/plain": [
       "Empty DataFrame\n",
       "Columns: []\n",
       "Index: []"
      ]
     },
     "execution_count": 24,
     "metadata": {},
     "output_type": "execute_result"
    }
   ],
   "source": [
    "activity = new_client.activity\n",
    "res = activity.filter(target_chembl_id=selected_target).filter(standard_type=\"IC50\")\n",
    "df = pd.DataFrame.from_dict(res)\n",
    "df"
   ]
  }
 ],
 "metadata": {
  "kernelspec": {
   "display_name": "Python 3",
   "language": "python",
   "name": "python3"
  },
  "language_info": {
   "codemirror_mode": {
    "name": "ipython",
    "version": 3
   },
   "file_extension": ".py",
   "mimetype": "text/x-python",
   "name": "python",
   "nbconvert_exporter": "python",
   "pygments_lexer": "ipython3",
   "version": "3.10.2"
  }
 },
 "nbformat": 4,
 "nbformat_minor": 2
}
