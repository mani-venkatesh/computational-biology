{
 "cells": [
  {
   "cell_type": "markdown",
   "metadata": {},
   "source": [
    "### **Sickle Cell Anemia Drug Discovery Project using ChEMBL Databse**\n",
    "Sickle Cell Anemia is a genetic blood disordery. Individuals with sickle cell anemia have a mutation in the hemoglobin gene, causing their red blood cells to take on a rigid, sickle-like shape instead of the normal flexible, round shape ([\"Sickle Cell Anemia\", G. Lonergan. 2001](https://pubs.rsna.org/doi/abs/10.1148/radiographics.21.4.g01jl23971)). Such complications can lead to reduced oxygen delivery and stroke.\n",
    "\n",
    "[ChEMBL Database](https://www.ebi.ac.uk/chembl/g/) is a large set of bioactivity data, compiled from scientific papers and assays covering thousands of pathophysiological targets. \n",
    "\n",
    "**Install ChEMBL webresource client library: $ pip install chembl_webresource_client [Github](https://github.com/chembl/chembl_webresource_client) [NIH](https://www.ncbi.nlm.nih.gov/pmc/articles/PMC4489243/)** \n",
    "\n",
    "This library enables users with HTTPS protocol and caches results in local file systems for fast retrieval - based on Django QuerySet."
   ]
  },
  {
   "cell_type": "markdown",
   "metadata": {},
   "source": [
    "#### **Importing Libraries**"
   ]
  },
  {
   "cell_type": "code",
   "execution_count": 2,
   "metadata": {},
   "outputs": [],
   "source": [
    "import pandas as pd\n",
    "from chembl_webresource_client.new_client import new_client "
   ]
  },
  {
   "cell_type": "markdown",
   "metadata": {},
   "source": [
    "#### **Query Targets of Sickle Cell Pathophysiology**"
   ]
  },
  {
   "cell_type": "code",
   "execution_count": 9,
   "metadata": {},
   "outputs": [
    {
     "data": {
      "text/html": [
       "<div>\n",
       "<style scoped>\n",
       "    .dataframe tbody tr th:only-of-type {\n",
       "        vertical-align: middle;\n",
       "    }\n",
       "\n",
       "    .dataframe tbody tr th {\n",
       "        vertical-align: top;\n",
       "    }\n",
       "\n",
       "    .dataframe thead th {\n",
       "        text-align: right;\n",
       "    }\n",
       "</style>\n",
       "<table border=\"1\" class=\"dataframe\">\n",
       "  <thead>\n",
       "    <tr style=\"text-align: right;\">\n",
       "      <th></th>\n",
       "      <th>organism</th>\n",
       "      <th>pref_name</th>\n",
       "      <th>target_chembl_id</th>\n",
       "    </tr>\n",
       "  </thead>\n",
       "  <tbody>\n",
       "    <tr>\n",
       "      <th>0</th>\n",
       "      <td>Homo sapiens</td>\n",
       "      <td>T cell surface glycoprotein CD3</td>\n",
       "      <td>CHEMBL2364168</td>\n",
       "    </tr>\n",
       "    <tr>\n",
       "      <th>1</th>\n",
       "      <td>Homo sapiens</td>\n",
       "      <td>Programmed cell death protein 1/Programmed cel...</td>\n",
       "      <td>CHEMBL4523993</td>\n",
       "    </tr>\n",
       "    <tr>\n",
       "      <th>2</th>\n",
       "      <td>Homo sapiens</td>\n",
       "      <td>T-cell receptor</td>\n",
       "      <td>CHEMBL3580506</td>\n",
       "    </tr>\n",
       "    <tr>\n",
       "      <th>3</th>\n",
       "      <td>Homo sapiens</td>\n",
       "      <td>Cyclin-dependent kinase 13/Cyclin-K</td>\n",
       "      <td>CHEMBL4296067</td>\n",
       "    </tr>\n",
       "    <tr>\n",
       "      <th>4</th>\n",
       "      <td>Homo sapiens</td>\n",
       "      <td>Cyclin-dependent kinase 4/cyclin D1</td>\n",
       "      <td>CHEMBL1907601</td>\n",
       "    </tr>\n",
       "    <tr>\n",
       "      <th>...</th>\n",
       "      <td>...</td>\n",
       "      <td>...</td>\n",
       "      <td>...</td>\n",
       "    </tr>\n",
       "    <tr>\n",
       "      <th>202</th>\n",
       "      <td>Homo sapiens</td>\n",
       "      <td>AMP-activated protein kinase alpha-2/beta-1/ga...</td>\n",
       "      <td>CHEMBL4106159</td>\n",
       "    </tr>\n",
       "    <tr>\n",
       "      <th>203</th>\n",
       "      <td>Homo sapiens</td>\n",
       "      <td>AMP-activated protein kinase alpha-1/beta-2/ga...</td>\n",
       "      <td>CHEMBL4106162</td>\n",
       "    </tr>\n",
       "    <tr>\n",
       "      <th>204</th>\n",
       "      <td>Homo sapiens</td>\n",
       "      <td>AMP-activated protein kinase alpha-1/beta-2/ga...</td>\n",
       "      <td>CHEMBL4106163</td>\n",
       "    </tr>\n",
       "    <tr>\n",
       "      <th>205</th>\n",
       "      <td>Homo sapiens</td>\n",
       "      <td>Mitochondrial complex I (NADH dehydrogenase)</td>\n",
       "      <td>CHEMBL2363065</td>\n",
       "    </tr>\n",
       "    <tr>\n",
       "      <th>206</th>\n",
       "      <td>Homo sapiens</td>\n",
       "      <td>26S proteasome</td>\n",
       "      <td>CHEMBL2364701</td>\n",
       "    </tr>\n",
       "  </tbody>\n",
       "</table>\n",
       "<p>207 rows × 3 columns</p>\n",
       "</div>"
      ],
      "text/plain": [
       "         organism                                          pref_name  \\\n",
       "0    Homo sapiens                    T cell surface glycoprotein CD3   \n",
       "1    Homo sapiens  Programmed cell death protein 1/Programmed cel...   \n",
       "2    Homo sapiens                                    T-cell receptor   \n",
       "3    Homo sapiens                Cyclin-dependent kinase 13/Cyclin-K   \n",
       "4    Homo sapiens                Cyclin-dependent kinase 4/cyclin D1   \n",
       "..            ...                                                ...   \n",
       "202  Homo sapiens  AMP-activated protein kinase alpha-2/beta-1/ga...   \n",
       "203  Homo sapiens  AMP-activated protein kinase alpha-1/beta-2/ga...   \n",
       "204  Homo sapiens  AMP-activated protein kinase alpha-1/beta-2/ga...   \n",
       "205  Homo sapiens       Mitochondrial complex I (NADH dehydrogenase)   \n",
       "206  Homo sapiens                                     26S proteasome   \n",
       "\n",
       "    target_chembl_id  \n",
       "0      CHEMBL2364168  \n",
       "1      CHEMBL4523993  \n",
       "2      CHEMBL3580506  \n",
       "3      CHEMBL4296067  \n",
       "4      CHEMBL1907601  \n",
       "..               ...  \n",
       "202    CHEMBL4106159  \n",
       "203    CHEMBL4106162  \n",
       "204    CHEMBL4106163  \n",
       "205    CHEMBL2363065  \n",
       "206    CHEMBL2364701  \n",
       "\n",
       "[207 rows x 3 columns]"
      ]
     },
     "execution_count": 9,
     "metadata": {},
     "output_type": "execute_result"
    }
   ],
   "source": [
    "target = new_client.target\n",
    "target_query = target.search('sickle cell anemia').filter(target_type='PROTEIN COMPLEX', organism='Homo sapiens').only(['organism', 'pref_name', 'target_chembl_id', 'target_compounds'])\n",
    "targets = pd.DataFrame.from_dict(target_query)\n",
    "targets \n"
   ]
  }
 ],
 "metadata": {
  "kernelspec": {
   "display_name": "Python 3",
   "language": "python",
   "name": "python3"
  },
  "language_info": {
   "codemirror_mode": {
    "name": "ipython",
    "version": 3
   },
   "file_extension": ".py",
   "mimetype": "text/x-python",
   "name": "python",
   "nbconvert_exporter": "python",
   "pygments_lexer": "ipython3",
   "version": "3.10.2"
  }
 },
 "nbformat": 4,
 "nbformat_minor": 2
}
