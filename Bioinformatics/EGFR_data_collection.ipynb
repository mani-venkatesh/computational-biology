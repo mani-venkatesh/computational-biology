{
 "cells": [
  {
   "cell_type": "markdown",
   "metadata": {},
   "source": [
    "#### **Importing Libraries**"
   ]
  },
  {
   "cell_type": "code",
   "execution_count": null,
   "metadata": {
    "vscode": {
     "languageId": "powershell"
    }
   },
   "outputs": [],
   "source": [
    "# pip install -r requirements.txt"
   ]
  },
  {
   "cell_type": "code",
   "execution_count": 2,
   "metadata": {},
   "outputs": [],
   "source": [
    "import pandas as pd\n",
    "from chembl_webresource_client.new_client import new_client "
   ]
  },
  {
   "cell_type": "markdown",
   "metadata": {},
   "source": [
    "### **Query Targets - EGFR Protein Family**"
   ]
  },
  {
   "cell_type": "code",
   "execution_count": 3,
   "metadata": {},
   "outputs": [
    {
     "data": {
      "text/html": [
       "<div>\n",
       "<style scoped>\n",
       "    .dataframe tbody tr th:only-of-type {\n",
       "        vertical-align: middle;\n",
       "    }\n",
       "\n",
       "    .dataframe tbody tr th {\n",
       "        vertical-align: top;\n",
       "    }\n",
       "\n",
       "    .dataframe thead th {\n",
       "        text-align: right;\n",
       "    }\n",
       "</style>\n",
       "<table border=\"1\" class=\"dataframe\">\n",
       "  <thead>\n",
       "    <tr style=\"text-align: right;\">\n",
       "      <th></th>\n",
       "      <th>cross_references</th>\n",
       "      <th>organism</th>\n",
       "      <th>pref_name</th>\n",
       "      <th>score</th>\n",
       "      <th>species_group_flag</th>\n",
       "      <th>target_chembl_id</th>\n",
       "      <th>target_components</th>\n",
       "      <th>target_type</th>\n",
       "      <th>tax_id</th>\n",
       "    </tr>\n",
       "  </thead>\n",
       "  <tbody>\n",
       "    <tr>\n",
       "      <th>0</th>\n",
       "      <td>[]</td>\n",
       "      <td>Homo sapiens</td>\n",
       "      <td>Epidermal growth factor receptor</td>\n",
       "      <td>12.0</td>\n",
       "      <td>False</td>\n",
       "      <td>CHEMBL2363049</td>\n",
       "      <td>[{'accession': 'P04626', 'component_descriptio...</td>\n",
       "      <td>PROTEIN FAMILY</td>\n",
       "      <td>9606</td>\n",
       "    </tr>\n",
       "    <tr>\n",
       "      <th>1</th>\n",
       "      <td>[{'xref_id': 'Q15303', 'xref_name': None, 'xre...</td>\n",
       "      <td>Homo sapiens</td>\n",
       "      <td>Receptor protein-tyrosine kinase erbB-4</td>\n",
       "      <td>11.0</td>\n",
       "      <td>False</td>\n",
       "      <td>CHEMBL3009</td>\n",
       "      <td>[{'accession': 'Q15303', 'component_descriptio...</td>\n",
       "      <td>SINGLE PROTEIN</td>\n",
       "      <td>9606</td>\n",
       "    </tr>\n",
       "    <tr>\n",
       "      <th>2</th>\n",
       "      <td>[{'xref_id': 'P21860', 'xref_name': None, 'xre...</td>\n",
       "      <td>Homo sapiens</td>\n",
       "      <td>Receptor tyrosine-protein kinase erbB-3</td>\n",
       "      <td>10.0</td>\n",
       "      <td>False</td>\n",
       "      <td>CHEMBL5838</td>\n",
       "      <td>[{'accession': 'P21860', 'component_descriptio...</td>\n",
       "      <td>SINGLE PROTEIN</td>\n",
       "      <td>9606</td>\n",
       "    </tr>\n",
       "  </tbody>\n",
       "</table>\n",
       "</div>"
      ],
      "text/plain": [
       "                                    cross_references      organism  \\\n",
       "0                                                 []  Homo sapiens   \n",
       "1  [{'xref_id': 'Q15303', 'xref_name': None, 'xre...  Homo sapiens   \n",
       "2  [{'xref_id': 'P21860', 'xref_name': None, 'xre...  Homo sapiens   \n",
       "\n",
       "                                 pref_name  score  species_group_flag  \\\n",
       "0         Epidermal growth factor receptor   12.0               False   \n",
       "1  Receptor protein-tyrosine kinase erbB-4   11.0               False   \n",
       "2  Receptor tyrosine-protein kinase erbB-3   10.0               False   \n",
       "\n",
       "  target_chembl_id                                  target_components  \\\n",
       "0    CHEMBL2363049  [{'accession': 'P04626', 'component_descriptio...   \n",
       "1       CHEMBL3009  [{'accession': 'Q15303', 'component_descriptio...   \n",
       "2       CHEMBL5838  [{'accession': 'P21860', 'component_descriptio...   \n",
       "\n",
       "      target_type  tax_id  \n",
       "0  PROTEIN FAMILY    9606  \n",
       "1  SINGLE PROTEIN    9606  \n",
       "2  SINGLE PROTEIN    9606  "
      ]
     },
     "execution_count": 3,
     "metadata": {},
     "output_type": "execute_result"
    }
   ],
   "source": [
    "target = new_client.target\n",
    "target_query = target.search('CHEMBL2363049')\n",
    "targets = pd.DataFrame.from_dict(target_query)\n",
    "targets.head(3)"
   ]
  },
  {
   "cell_type": "code",
   "execution_count": 4,
   "metadata": {},
   "outputs": [
    {
     "data": {
      "text/plain": [
       "'CHEMBL2363049'"
      ]
     },
     "execution_count": 4,
     "metadata": {},
     "output_type": "execute_result"
    }
   ],
   "source": [
    "selected_target = targets.target_chembl_id[0] \n",
    "selected_target"
   ]
  },
  {
   "cell_type": "markdown",
   "metadata": {},
   "source": [
    "#### *Retrieve bioactivity data for *EGFR* (CHEMBL2363049) that are reported as IC50 values in nanomolars (nM)*"
   ]
  },
  {
   "cell_type": "code",
   "execution_count": 5,
   "metadata": {},
   "outputs": [
    {
     "data": {
      "text/html": [
       "<div>\n",
       "<style scoped>\n",
       "    .dataframe tbody tr th:only-of-type {\n",
       "        vertical-align: middle;\n",
       "    }\n",
       "\n",
       "    .dataframe tbody tr th {\n",
       "        vertical-align: top;\n",
       "    }\n",
       "\n",
       "    .dataframe thead th {\n",
       "        text-align: right;\n",
       "    }\n",
       "</style>\n",
       "<table border=\"1\" class=\"dataframe\">\n",
       "  <thead>\n",
       "    <tr style=\"text-align: right;\">\n",
       "      <th></th>\n",
       "      <th>action_type</th>\n",
       "      <th>activity_comment</th>\n",
       "      <th>activity_id</th>\n",
       "      <th>activity_properties</th>\n",
       "      <th>assay_chembl_id</th>\n",
       "      <th>assay_description</th>\n",
       "      <th>assay_type</th>\n",
       "      <th>assay_variant_accession</th>\n",
       "      <th>assay_variant_mutation</th>\n",
       "      <th>bao_endpoint</th>\n",
       "      <th>...</th>\n",
       "      <th>target_organism</th>\n",
       "      <th>target_pref_name</th>\n",
       "      <th>target_tax_id</th>\n",
       "      <th>text_value</th>\n",
       "      <th>toid</th>\n",
       "      <th>type</th>\n",
       "      <th>units</th>\n",
       "      <th>uo_units</th>\n",
       "      <th>upper_value</th>\n",
       "      <th>value</th>\n",
       "    </tr>\n",
       "  </thead>\n",
       "  <tbody>\n",
       "    <tr>\n",
       "      <th>0</th>\n",
       "      <td>None</td>\n",
       "      <td>None</td>\n",
       "      <td>3261308</td>\n",
       "      <td>[]</td>\n",
       "      <td>CHEMBL1105218</td>\n",
       "      <td>Inhibition of EGFR Leu858Arg and Thr790Met mut...</td>\n",
       "      <td>B</td>\n",
       "      <td>P00533</td>\n",
       "      <td>L858R,T790M</td>\n",
       "      <td>BAO_0000190</td>\n",
       "      <td>...</td>\n",
       "      <td>Homo sapiens</td>\n",
       "      <td>Epidermal growth factor receptor</td>\n",
       "      <td>9606</td>\n",
       "      <td>None</td>\n",
       "      <td>None</td>\n",
       "      <td>IC50</td>\n",
       "      <td>nM</td>\n",
       "      <td>UO_0000065</td>\n",
       "      <td>None</td>\n",
       "      <td>140.0</td>\n",
       "    </tr>\n",
       "    <tr>\n",
       "      <th>1</th>\n",
       "      <td>None</td>\n",
       "      <td>None</td>\n",
       "      <td>3261309</td>\n",
       "      <td>[]</td>\n",
       "      <td>CHEMBL1105218</td>\n",
       "      <td>Inhibition of EGFR Leu858Arg and Thr790Met mut...</td>\n",
       "      <td>B</td>\n",
       "      <td>P00533</td>\n",
       "      <td>L858R,T790M</td>\n",
       "      <td>BAO_0000190</td>\n",
       "      <td>...</td>\n",
       "      <td>Homo sapiens</td>\n",
       "      <td>Epidermal growth factor receptor</td>\n",
       "      <td>9606</td>\n",
       "      <td>None</td>\n",
       "      <td>None</td>\n",
       "      <td>IC50</td>\n",
       "      <td>nM</td>\n",
       "      <td>UO_0000065</td>\n",
       "      <td>None</td>\n",
       "      <td>1500.0</td>\n",
       "    </tr>\n",
       "    <tr>\n",
       "      <th>2</th>\n",
       "      <td>None</td>\n",
       "      <td>None</td>\n",
       "      <td>3261310</td>\n",
       "      <td>[]</td>\n",
       "      <td>CHEMBL1105218</td>\n",
       "      <td>Inhibition of EGFR Leu858Arg and Thr790Met mut...</td>\n",
       "      <td>B</td>\n",
       "      <td>P00533</td>\n",
       "      <td>L858R,T790M</td>\n",
       "      <td>BAO_0000190</td>\n",
       "      <td>...</td>\n",
       "      <td>Homo sapiens</td>\n",
       "      <td>Epidermal growth factor receptor</td>\n",
       "      <td>9606</td>\n",
       "      <td>None</td>\n",
       "      <td>None</td>\n",
       "      <td>IC50</td>\n",
       "      <td>nM</td>\n",
       "      <td>UO_0000065</td>\n",
       "      <td>None</td>\n",
       "      <td>1000.0</td>\n",
       "    </tr>\n",
       "    <tr>\n",
       "      <th>3</th>\n",
       "      <td>None</td>\n",
       "      <td>None</td>\n",
       "      <td>3261311</td>\n",
       "      <td>[]</td>\n",
       "      <td>CHEMBL1105218</td>\n",
       "      <td>Inhibition of EGFR Leu858Arg and Thr790Met mut...</td>\n",
       "      <td>B</td>\n",
       "      <td>P00533</td>\n",
       "      <td>L858R,T790M</td>\n",
       "      <td>BAO_0000190</td>\n",
       "      <td>...</td>\n",
       "      <td>Homo sapiens</td>\n",
       "      <td>Epidermal growth factor receptor</td>\n",
       "      <td>9606</td>\n",
       "      <td>None</td>\n",
       "      <td>None</td>\n",
       "      <td>IC50</td>\n",
       "      <td>nM</td>\n",
       "      <td>UO_0000065</td>\n",
       "      <td>None</td>\n",
       "      <td>1500.0</td>\n",
       "    </tr>\n",
       "    <tr>\n",
       "      <th>4</th>\n",
       "      <td>None</td>\n",
       "      <td>None</td>\n",
       "      <td>3261312</td>\n",
       "      <td>[]</td>\n",
       "      <td>CHEMBL1105218</td>\n",
       "      <td>Inhibition of EGFR Leu858Arg and Thr790Met mut...</td>\n",
       "      <td>B</td>\n",
       "      <td>P00533</td>\n",
       "      <td>L858R,T790M</td>\n",
       "      <td>BAO_0000190</td>\n",
       "      <td>...</td>\n",
       "      <td>Homo sapiens</td>\n",
       "      <td>Epidermal growth factor receptor</td>\n",
       "      <td>9606</td>\n",
       "      <td>None</td>\n",
       "      <td>None</td>\n",
       "      <td>IC50</td>\n",
       "      <td>nM</td>\n",
       "      <td>UO_0000065</td>\n",
       "      <td>None</td>\n",
       "      <td>190.0</td>\n",
       "    </tr>\n",
       "  </tbody>\n",
       "</table>\n",
       "<p>5 rows × 46 columns</p>\n",
       "</div>"
      ],
      "text/plain": [
       "  action_type activity_comment  activity_id activity_properties  \\\n",
       "0        None             None      3261308                  []   \n",
       "1        None             None      3261309                  []   \n",
       "2        None             None      3261310                  []   \n",
       "3        None             None      3261311                  []   \n",
       "4        None             None      3261312                  []   \n",
       "\n",
       "  assay_chembl_id                                  assay_description  \\\n",
       "0   CHEMBL1105218  Inhibition of EGFR Leu858Arg and Thr790Met mut...   \n",
       "1   CHEMBL1105218  Inhibition of EGFR Leu858Arg and Thr790Met mut...   \n",
       "2   CHEMBL1105218  Inhibition of EGFR Leu858Arg and Thr790Met mut...   \n",
       "3   CHEMBL1105218  Inhibition of EGFR Leu858Arg and Thr790Met mut...   \n",
       "4   CHEMBL1105218  Inhibition of EGFR Leu858Arg and Thr790Met mut...   \n",
       "\n",
       "  assay_type assay_variant_accession assay_variant_mutation bao_endpoint  ...  \\\n",
       "0          B                  P00533            L858R,T790M  BAO_0000190  ...   \n",
       "1          B                  P00533            L858R,T790M  BAO_0000190  ...   \n",
       "2          B                  P00533            L858R,T790M  BAO_0000190  ...   \n",
       "3          B                  P00533            L858R,T790M  BAO_0000190  ...   \n",
       "4          B                  P00533            L858R,T790M  BAO_0000190  ...   \n",
       "\n",
       "  target_organism                  target_pref_name target_tax_id text_value  \\\n",
       "0    Homo sapiens  Epidermal growth factor receptor          9606       None   \n",
       "1    Homo sapiens  Epidermal growth factor receptor          9606       None   \n",
       "2    Homo sapiens  Epidermal growth factor receptor          9606       None   \n",
       "3    Homo sapiens  Epidermal growth factor receptor          9606       None   \n",
       "4    Homo sapiens  Epidermal growth factor receptor          9606       None   \n",
       "\n",
       "   toid  type units    uo_units upper_value   value  \n",
       "0  None  IC50    nM  UO_0000065        None   140.0  \n",
       "1  None  IC50    nM  UO_0000065        None  1500.0  \n",
       "2  None  IC50    nM  UO_0000065        None  1000.0  \n",
       "3  None  IC50    nM  UO_0000065        None  1500.0  \n",
       "4  None  IC50    nM  UO_0000065        None   190.0  \n",
       "\n",
       "[5 rows x 46 columns]"
      ]
     },
     "execution_count": 5,
     "metadata": {},
     "output_type": "execute_result"
    }
   ],
   "source": [
    "activity = new_client.activity\n",
    "res = activity.filter(target_chembl_id=selected_target).filter(standard_type=\"IC50\", units='nM')\n",
    "df = pd.DataFrame.from_dict(res)\n",
    "df.head(5)\n",
    "# df.to_csv('biactivity_of_EGFR.csv', index=False)"
   ]
  },
  {
   "cell_type": "markdown",
   "metadata": {},
   "source": [
    "#### **Handling missing data**"
   ]
  },
  {
   "cell_type": "code",
   "execution_count": 6,
   "metadata": {},
   "outputs": [],
   "source": [
    "df2 = df[df.standard_value.notna()]\n",
    "# No data lost"
   ]
  },
  {
   "cell_type": "markdown",
   "metadata": {},
   "source": [
    "### **Data pre-processing of bioactivity data**"
   ]
  },
  {
   "cell_type": "markdown",
   "metadata": {},
   "source": [
    "#### Labeling compounds as either active, inactive or intermediate\n",
    "\n",
    "This is based on the nanomolar IC50 standard value for each compound. Active: < 10 nM , Inactive: > 100 nM, Intermediate: In-between"
   ]
  },
  {
   "cell_type": "code",
   "execution_count": 7,
   "metadata": {},
   "outputs": [],
   "source": [
    "active_thres = 10\n",
    "inactive_thres = 100\n",
    "\n",
    "bioactivity_class = []\n",
    "for val in df2.standard_value:\n",
    "    if float(val) > inactive_thres:\n",
    "        bioactivity_class.append('inactive')\n",
    "    elif float(val) < active_thres:\n",
    "        bioactivity_class.append('active')\n",
    "    else:\n",
    "        bioactivity_class.append('intermediate')\n",
    "bioactivity_class = pd.Series(bioactivity_class, name = 'bioactivity')\n",
    "# bioactivity_class"
   ]
  },
  {
   "cell_type": "markdown",
   "metadata": {},
   "source": [
    "#### Create dataframe for compound analysis \n",
    "molecule_chembl_id: describes molecule tested against EGFR\n",
    "\n",
    "canonical_smiles: Simplified Molecular Input Line Entry System (SMILE), chemical structure for computer representation\n",
    "\n",
    "standard_value: IC50 value in nM\n",
    "\n",
    "bioactivity_class: Description of compound efficacy "
   ]
  },
  {
   "cell_type": "code",
   "execution_count": 8,
   "metadata": {},
   "outputs": [],
   "source": [
    "selection = ['molecule_chembl_id', 'canonical_smiles', 'standard_value']\n",
    "df3 = pd.concat([df2[selection], bioactivity_class], axis=1)\n",
    "df3.to_csv('bioactivity_of_EGFR_inhibitors.csv', index=False)"
   ]
  }
 ],
 "metadata": {
  "kernelspec": {
   "display_name": "Python 3",
   "language": "python",
   "name": "python3"
  },
  "language_info": {
   "codemirror_mode": {
    "name": "ipython",
    "version": 3
   },
   "file_extension": ".py",
   "mimetype": "text/x-python",
   "name": "python",
   "nbconvert_exporter": "python",
   "pygments_lexer": "ipython3",
   "version": "3.10.2"
  }
 },
 "nbformat": 4,
 "nbformat_minor": 2
}
