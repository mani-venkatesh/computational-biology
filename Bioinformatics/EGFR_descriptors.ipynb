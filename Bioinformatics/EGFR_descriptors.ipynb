{
 "cells": [
  {
   "cell_type": "markdown",
   "metadata": {},
   "source": [
    "## **Descriptor Calculations and Dataset Preparation**"
   ]
  },
  {
   "cell_type": "markdown",
   "metadata": {},
   "source": [
    "### **Import Libraries and Load Data**"
   ]
  },
  {
   "cell_type": "code",
   "execution_count": 24,
   "metadata": {},
   "outputs": [
    {
     "data": {
      "text/html": [
       "<div>\n",
       "<style scoped>\n",
       "    .dataframe tbody tr th:only-of-type {\n",
       "        vertical-align: middle;\n",
       "    }\n",
       "\n",
       "    .dataframe tbody tr th {\n",
       "        vertical-align: top;\n",
       "    }\n",
       "\n",
       "    .dataframe thead th {\n",
       "        text-align: right;\n",
       "    }\n",
       "</style>\n",
       "<table border=\"1\" class=\"dataframe\">\n",
       "  <thead>\n",
       "    <tr style=\"text-align: right;\">\n",
       "      <th></th>\n",
       "      <th>molecule_chembl_id</th>\n",
       "      <th>canonical_smiles</th>\n",
       "      <th>bioactivity</th>\n",
       "      <th>MW</th>\n",
       "      <th>LogP</th>\n",
       "      <th>NumHDonors</th>\n",
       "      <th>NumHAcceptors</th>\n",
       "      <th>pIC50</th>\n",
       "    </tr>\n",
       "  </thead>\n",
       "  <tbody>\n",
       "    <tr>\n",
       "      <th>0</th>\n",
       "      <td>CHEMBL304929</td>\n",
       "      <td>C#Cc1cccc(Nc2ncnc3cc(OC)c(OC)cc23)c1</td>\n",
       "      <td>inactive</td>\n",
       "      <td>305.337</td>\n",
       "      <td>3.3719</td>\n",
       "      <td>1.0</td>\n",
       "      <td>5.0</td>\n",
       "      <td>6.853872</td>\n",
       "    </tr>\n",
       "    <tr>\n",
       "      <th>1</th>\n",
       "      <td>CHEMBL1092250</td>\n",
       "      <td>C#Cc1cccc(Nc2ccnc3cc(OC)c(OC)cc23)c1</td>\n",
       "      <td>inactive</td>\n",
       "      <td>304.349</td>\n",
       "      <td>3.9769</td>\n",
       "      <td>1.0</td>\n",
       "      <td>4.0</td>\n",
       "      <td>5.823909</td>\n",
       "    </tr>\n",
       "    <tr>\n",
       "      <th>2</th>\n",
       "      <td>CHEMBL553</td>\n",
       "      <td>C#Cc1cccc(Nc2ncnc3cc(OCCOC)c(OCCOC)cc23)c1</td>\n",
       "      <td>inactive</td>\n",
       "      <td>393.443</td>\n",
       "      <td>3.4051</td>\n",
       "      <td>1.0</td>\n",
       "      <td>7.0</td>\n",
       "      <td>6.000000</td>\n",
       "    </tr>\n",
       "    <tr>\n",
       "      <th>3</th>\n",
       "      <td>CHEMBL1089203</td>\n",
       "      <td>C#Cc1cccc(Nc2ccnc3cc(OCCOC)c(OCCOC)cc23)c1</td>\n",
       "      <td>inactive</td>\n",
       "      <td>392.455</td>\n",
       "      <td>4.0101</td>\n",
       "      <td>1.0</td>\n",
       "      <td>6.0</td>\n",
       "      <td>5.823909</td>\n",
       "    </tr>\n",
       "    <tr>\n",
       "      <th>4</th>\n",
       "      <td>CHEMBL1088901</td>\n",
       "      <td>CN(C)CCCC(=O)Nc1ccc2ncnc(Nc3cccc(Br)c3)c2c1</td>\n",
       "      <td>inactive</td>\n",
       "      <td>428.334</td>\n",
       "      <td>4.4162</td>\n",
       "      <td>2.0</td>\n",
       "      <td>5.0</td>\n",
       "      <td>6.721246</td>\n",
       "    </tr>\n",
       "  </tbody>\n",
       "</table>\n",
       "</div>"
      ],
      "text/plain": [
       "  molecule_chembl_id                             canonical_smiles bioactivity  \\\n",
       "0       CHEMBL304929         C#Cc1cccc(Nc2ncnc3cc(OC)c(OC)cc23)c1    inactive   \n",
       "1      CHEMBL1092250         C#Cc1cccc(Nc2ccnc3cc(OC)c(OC)cc23)c1    inactive   \n",
       "2          CHEMBL553   C#Cc1cccc(Nc2ncnc3cc(OCCOC)c(OCCOC)cc23)c1    inactive   \n",
       "3      CHEMBL1089203   C#Cc1cccc(Nc2ccnc3cc(OCCOC)c(OCCOC)cc23)c1    inactive   \n",
       "4      CHEMBL1088901  CN(C)CCCC(=O)Nc1ccc2ncnc(Nc3cccc(Br)c3)c2c1    inactive   \n",
       "\n",
       "        MW    LogP  NumHDonors  NumHAcceptors     pIC50  \n",
       "0  305.337  3.3719         1.0            5.0  6.853872  \n",
       "1  304.349  3.9769         1.0            4.0  5.823909  \n",
       "2  393.443  3.4051         1.0            7.0  6.000000  \n",
       "3  392.455  4.0101         1.0            6.0  5.823909  \n",
       "4  428.334  4.4162         2.0            5.0  6.721246  "
      ]
     },
     "execution_count": 24,
     "metadata": {},
     "output_type": "execute_result"
    }
   ],
   "source": [
    "import pandas as pd\n",
    "from padelpy import padeldescriptor, from_mdl\n",
    "\n",
    "df_load = pd.read_csv('egfr_01_biactivity_data_with_Lipinski.csv')\n",
    "df_load.head(5)"
   ]
  },
  {
   "cell_type": "markdown",
   "metadata": {},
   "source": [
    "### **Generate fingerprint descriptor file**\n",
    "Using padelpy libary to extract [PubChem Substructure Fingerprints](https://web.cse.ohio-state.edu/~zhang.10631/bak/drugreposition/list_fingerprints.pdf) from all moleculues given their SMILES\n",
    "\n",
    "This outputs a robust binary dataframe with 880 variables for each molecule to describe element count, atom pairing, nearest neighbors, etc. "
   ]
  },
  {
   "cell_type": "code",
   "execution_count": 25,
   "metadata": {},
   "outputs": [],
   "source": [
    "padel_cols = ['canonical_smiles', 'molecule_chembl_id']\n",
    "df_padel = df_load[padel_cols]\n",
    "df_padel.to_csv('molecules.smi', sep='\\t', index=False, header=False)\n",
    "padeldescriptor(mol_dir='molecules.smi', d_file='descriptors.csv', fingerprints=True)"
   ]
  },
  {
   "cell_type": "markdown",
   "metadata": {},
   "source": [
    "### **Preparing Data Matricies for Model**\n",
    "X: inputs - fingerprint descriptors of molecule\n",
    "\n",
    "Y: output - single value of pIC50 for bioactivity"
   ]
  },
  {
   "cell_type": "code",
   "execution_count": 26,
   "metadata": {},
   "outputs": [],
   "source": [
    "df_descriptors = pd.read_csv('descriptors.csv')\n",
    "\n",
    "df_x = df_descriptors.drop(columns=['Name'])\n",
    "df_y = df_load['pIC50']\n",
    "\n",
    "df_dataset = pd.concat([df_x, df_y], axis=1)\n",
    "df_dataset.head(5)\n",
    "\n",
    "df_dataset.to_csv('egfr_02_bioactivity_data_3class_pIC50_pubchem_fp.csv', index=False)"
   ]
  }
 ],
 "metadata": {
  "kernelspec": {
   "display_name": "Python 3",
   "language": "python",
   "name": "python3"
  },
  "language_info": {
   "codemirror_mode": {
    "name": "ipython",
    "version": 3
   },
   "file_extension": ".py",
   "mimetype": "text/x-python",
   "name": "python",
   "nbconvert_exporter": "python",
   "pygments_lexer": "ipython3",
   "version": "3.10.2"
  }
 },
 "nbformat": 4,
 "nbformat_minor": 2
}
